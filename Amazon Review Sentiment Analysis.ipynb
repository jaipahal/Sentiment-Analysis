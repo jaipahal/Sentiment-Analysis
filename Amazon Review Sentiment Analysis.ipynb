{
 "cells": [
  {
   "cell_type": "markdown",
   "id": "6a7ebab9",
   "metadata": {},
   "source": [
    "# Problem Statement\n",
    "**The project deals with the sentimental analysis of the products reviews that help the merchants to deliver and refer the best quality goods to the customer.**\n",
    "\n",
    "There may be two points we can divide it:\n",
    "- Which product categories have lower reviews/ maybe inferior products?\n",
    "- Which product has higher customer reviews/ maybe superior products?\n",
    "\n",
    "Solution:<br>\n",
    "Keep the products with higher ratings and better reviews, associated with the positive/ negative words for each product review. And by sentiment analysis, we can predict a review score for each such product.\n",
    "\n",
    "Here, we have the dataset based on Amazon branded/ manufactured product only.\n",
    "\n",
    "Sample rated review:<br>\n",
    "Product X is highly rated, seems most people like its lightweight, premium and portable design. While negative rated products have words saying they are too heavy or couldn't fit in the bags.\n",
    "So, here we suggest procuct manufacturer to make more portable and lightweight models (based on the analysis)."
   ]
  },
  {
   "cell_type": "markdown",
   "id": "7bbe2fca",
   "metadata": {},
   "source": [
    "# Raw Data"
   ]
  },
  {
   "cell_type": "code",
   "execution_count": 1,
   "id": "adcfa3dc",
   "metadata": {},
   "outputs": [
    {
     "data": {
      "text/html": [
       "<div>\n",
       "<style scoped>\n",
       "    .dataframe tbody tr th:only-of-type {\n",
       "        vertical-align: middle;\n",
       "    }\n",
       "\n",
       "    .dataframe tbody tr th {\n",
       "        vertical-align: top;\n",
       "    }\n",
       "\n",
       "    .dataframe thead th {\n",
       "        text-align: right;\n",
       "    }\n",
       "</style>\n",
       "<table border=\"1\" class=\"dataframe\">\n",
       "  <thead>\n",
       "    <tr style=\"text-align: right;\">\n",
       "      <th></th>\n",
       "      <th>id</th>\n",
       "      <th>name</th>\n",
       "      <th>asins</th>\n",
       "      <th>brand</th>\n",
       "      <th>categories</th>\n",
       "      <th>keys</th>\n",
       "      <th>manufacturer</th>\n",
       "      <th>reviews.date</th>\n",
       "      <th>reviews.dateAdded</th>\n",
       "      <th>reviews.dateSeen</th>\n",
       "      <th>...</th>\n",
       "      <th>reviews.doRecommend</th>\n",
       "      <th>reviews.id</th>\n",
       "      <th>reviews.numHelpful</th>\n",
       "      <th>reviews.rating</th>\n",
       "      <th>reviews.sourceURLs</th>\n",
       "      <th>reviews.text</th>\n",
       "      <th>reviews.title</th>\n",
       "      <th>reviews.userCity</th>\n",
       "      <th>reviews.userProvince</th>\n",
       "      <th>reviews.username</th>\n",
       "    </tr>\n",
       "  </thead>\n",
       "  <tbody>\n",
       "    <tr>\n",
       "      <th>0</th>\n",
       "      <td>AVqkIhwDv8e3D1O-lebb</td>\n",
       "      <td>All-New Fire HD 8 Tablet, 8 HD Display, Wi-Fi,...</td>\n",
       "      <td>B01AHB9CN2</td>\n",
       "      <td>Amazon</td>\n",
       "      <td>Electronics,iPad &amp; Tablets,All Tablets,Fire Ta...</td>\n",
       "      <td>841667104676,amazon/53004484,amazon/b01ahb9cn2...</td>\n",
       "      <td>Amazon</td>\n",
       "      <td>2017-01-13T00:00:00.000Z</td>\n",
       "      <td>2017-07-03T23:33:15Z</td>\n",
       "      <td>2017-06-07T09:04:00.000Z,2017-04-30T00:45:00.000Z</td>\n",
       "      <td>...</td>\n",
       "      <td>True</td>\n",
       "      <td>NaN</td>\n",
       "      <td>0.0</td>\n",
       "      <td>5.0</td>\n",
       "      <td>http://reviews.bestbuy.com/3545/5620406/review...</td>\n",
       "      <td>This product so far has not disappointed. My c...</td>\n",
       "      <td>Kindle</td>\n",
       "      <td>NaN</td>\n",
       "      <td>NaN</td>\n",
       "      <td>Adapter</td>\n",
       "    </tr>\n",
       "    <tr>\n",
       "      <th>1</th>\n",
       "      <td>AVqkIhwDv8e3D1O-lebb</td>\n",
       "      <td>All-New Fire HD 8 Tablet, 8 HD Display, Wi-Fi,...</td>\n",
       "      <td>B01AHB9CN2</td>\n",
       "      <td>Amazon</td>\n",
       "      <td>Electronics,iPad &amp; Tablets,All Tablets,Fire Ta...</td>\n",
       "      <td>841667104676,amazon/53004484,amazon/b01ahb9cn2...</td>\n",
       "      <td>Amazon</td>\n",
       "      <td>2017-01-13T00:00:00.000Z</td>\n",
       "      <td>2017-07-03T23:33:15Z</td>\n",
       "      <td>2017-06-07T09:04:00.000Z,2017-04-30T00:45:00.000Z</td>\n",
       "      <td>...</td>\n",
       "      <td>True</td>\n",
       "      <td>NaN</td>\n",
       "      <td>0.0</td>\n",
       "      <td>5.0</td>\n",
       "      <td>http://reviews.bestbuy.com/3545/5620406/review...</td>\n",
       "      <td>great for beginner or experienced person. Boug...</td>\n",
       "      <td>very fast</td>\n",
       "      <td>NaN</td>\n",
       "      <td>NaN</td>\n",
       "      <td>truman</td>\n",
       "    </tr>\n",
       "    <tr>\n",
       "      <th>2</th>\n",
       "      <td>AVqkIhwDv8e3D1O-lebb</td>\n",
       "      <td>All-New Fire HD 8 Tablet, 8 HD Display, Wi-Fi,...</td>\n",
       "      <td>B01AHB9CN2</td>\n",
       "      <td>Amazon</td>\n",
       "      <td>Electronics,iPad &amp; Tablets,All Tablets,Fire Ta...</td>\n",
       "      <td>841667104676,amazon/53004484,amazon/b01ahb9cn2...</td>\n",
       "      <td>Amazon</td>\n",
       "      <td>2017-01-13T00:00:00.000Z</td>\n",
       "      <td>2017-07-03T23:33:15Z</td>\n",
       "      <td>2017-06-07T09:04:00.000Z,2017-04-30T00:45:00.000Z</td>\n",
       "      <td>...</td>\n",
       "      <td>True</td>\n",
       "      <td>NaN</td>\n",
       "      <td>0.0</td>\n",
       "      <td>5.0</td>\n",
       "      <td>http://reviews.bestbuy.com/3545/5620406/review...</td>\n",
       "      <td>Inexpensive tablet for him to use and learn on...</td>\n",
       "      <td>Beginner tablet for our 9 year old son.</td>\n",
       "      <td>NaN</td>\n",
       "      <td>NaN</td>\n",
       "      <td>DaveZ</td>\n",
       "    </tr>\n",
       "  </tbody>\n",
       "</table>\n",
       "<p>3 rows × 21 columns</p>\n",
       "</div>"
      ],
      "text/plain": [
       "                     id                                               name  \\\n",
       "0  AVqkIhwDv8e3D1O-lebb  All-New Fire HD 8 Tablet, 8 HD Display, Wi-Fi,...   \n",
       "1  AVqkIhwDv8e3D1O-lebb  All-New Fire HD 8 Tablet, 8 HD Display, Wi-Fi,...   \n",
       "2  AVqkIhwDv8e3D1O-lebb  All-New Fire HD 8 Tablet, 8 HD Display, Wi-Fi,...   \n",
       "\n",
       "        asins   brand                                         categories  \\\n",
       "0  B01AHB9CN2  Amazon  Electronics,iPad & Tablets,All Tablets,Fire Ta...   \n",
       "1  B01AHB9CN2  Amazon  Electronics,iPad & Tablets,All Tablets,Fire Ta...   \n",
       "2  B01AHB9CN2  Amazon  Electronics,iPad & Tablets,All Tablets,Fire Ta...   \n",
       "\n",
       "                                                keys manufacturer  \\\n",
       "0  841667104676,amazon/53004484,amazon/b01ahb9cn2...       Amazon   \n",
       "1  841667104676,amazon/53004484,amazon/b01ahb9cn2...       Amazon   \n",
       "2  841667104676,amazon/53004484,amazon/b01ahb9cn2...       Amazon   \n",
       "\n",
       "               reviews.date     reviews.dateAdded  \\\n",
       "0  2017-01-13T00:00:00.000Z  2017-07-03T23:33:15Z   \n",
       "1  2017-01-13T00:00:00.000Z  2017-07-03T23:33:15Z   \n",
       "2  2017-01-13T00:00:00.000Z  2017-07-03T23:33:15Z   \n",
       "\n",
       "                                    reviews.dateSeen  ... reviews.doRecommend  \\\n",
       "0  2017-06-07T09:04:00.000Z,2017-04-30T00:45:00.000Z  ...                True   \n",
       "1  2017-06-07T09:04:00.000Z,2017-04-30T00:45:00.000Z  ...                True   \n",
       "2  2017-06-07T09:04:00.000Z,2017-04-30T00:45:00.000Z  ...                True   \n",
       "\n",
       "  reviews.id  reviews.numHelpful  reviews.rating  \\\n",
       "0        NaN                 0.0             5.0   \n",
       "1        NaN                 0.0             5.0   \n",
       "2        NaN                 0.0             5.0   \n",
       "\n",
       "                                  reviews.sourceURLs  \\\n",
       "0  http://reviews.bestbuy.com/3545/5620406/review...   \n",
       "1  http://reviews.bestbuy.com/3545/5620406/review...   \n",
       "2  http://reviews.bestbuy.com/3545/5620406/review...   \n",
       "\n",
       "                                        reviews.text  \\\n",
       "0  This product so far has not disappointed. My c...   \n",
       "1  great for beginner or experienced person. Boug...   \n",
       "2  Inexpensive tablet for him to use and learn on...   \n",
       "\n",
       "                             reviews.title reviews.userCity  \\\n",
       "0                                   Kindle              NaN   \n",
       "1                                very fast              NaN   \n",
       "2  Beginner tablet for our 9 year old son.              NaN   \n",
       "\n",
       "   reviews.userProvince  reviews.username  \n",
       "0                   NaN           Adapter  \n",
       "1                   NaN            truman  \n",
       "2                   NaN             DaveZ  \n",
       "\n",
       "[3 rows x 21 columns]"
      ]
     },
     "execution_count": 1,
     "metadata": {},
     "output_type": "execute_result"
    }
   ],
   "source": [
    "#importing necessary libraries\n",
    "import pandas as pd\n",
    "import matplotlib.pyplot as plt\n",
    "import numpy as np\n",
    "import math\n",
    "import warnings\n",
    "import seaborn as sn\n",
    "warnings.filterwarnings('ignore') #ignores warnings\n",
    "sn.set_style(\"whitegrid\") #plotting style\n",
    "#shows plots wihin the notebook\n",
    "%matplotlib inline \n",
    "np.random.seed(5) #random number generator seed\n",
    "\n",
    "filename=\"1429_1.csv\"\n",
    "prod_rev=pd.read_csv(filename)\n",
    "prod_rev.head(3)"
   ]
  },
  {
   "cell_type": "markdown",
   "id": "ecf08a1b",
   "metadata": {},
   "source": [
    "- We can refine out sentiment analysis result using the reviews.text column, alongside the reviews.rating and reviews.doRecommend column\n",
    "- We can add a new column - **\"SENTIMENT\"** that labels reach review into categories- Positive, Neutral and Negative"
   ]
  },
  {
   "cell_type": "code",
   "execution_count": 2,
   "id": "3899fcc2",
   "metadata": {},
   "outputs": [
    {
     "data": {
      "text/html": [
       "<div>\n",
       "<style scoped>\n",
       "    .dataframe tbody tr th:only-of-type {\n",
       "        vertical-align: middle;\n",
       "    }\n",
       "\n",
       "    .dataframe tbody tr th {\n",
       "        vertical-align: top;\n",
       "    }\n",
       "\n",
       "    .dataframe thead th {\n",
       "        text-align: right;\n",
       "    }\n",
       "</style>\n",
       "<table border=\"1\" class=\"dataframe\">\n",
       "  <thead>\n",
       "    <tr style=\"text-align: right;\">\n",
       "      <th></th>\n",
       "      <th>reviews.id</th>\n",
       "      <th>reviews.numHelpful</th>\n",
       "      <th>reviews.rating</th>\n",
       "      <th>reviews.userCity</th>\n",
       "      <th>reviews.userProvince</th>\n",
       "    </tr>\n",
       "  </thead>\n",
       "  <tbody>\n",
       "    <tr>\n",
       "      <th>count</th>\n",
       "      <td>1.0</td>\n",
       "      <td>34131.000000</td>\n",
       "      <td>34627.000000</td>\n",
       "      <td>0.0</td>\n",
       "      <td>0.0</td>\n",
       "    </tr>\n",
       "    <tr>\n",
       "      <th>mean</th>\n",
       "      <td>111372787.0</td>\n",
       "      <td>0.630248</td>\n",
       "      <td>4.584573</td>\n",
       "      <td>NaN</td>\n",
       "      <td>NaN</td>\n",
       "    </tr>\n",
       "    <tr>\n",
       "      <th>std</th>\n",
       "      <td>NaN</td>\n",
       "      <td>13.215775</td>\n",
       "      <td>0.735653</td>\n",
       "      <td>NaN</td>\n",
       "      <td>NaN</td>\n",
       "    </tr>\n",
       "    <tr>\n",
       "      <th>min</th>\n",
       "      <td>111372787.0</td>\n",
       "      <td>0.000000</td>\n",
       "      <td>1.000000</td>\n",
       "      <td>NaN</td>\n",
       "      <td>NaN</td>\n",
       "    </tr>\n",
       "    <tr>\n",
       "      <th>25%</th>\n",
       "      <td>111372787.0</td>\n",
       "      <td>0.000000</td>\n",
       "      <td>4.000000</td>\n",
       "      <td>NaN</td>\n",
       "      <td>NaN</td>\n",
       "    </tr>\n",
       "    <tr>\n",
       "      <th>50%</th>\n",
       "      <td>111372787.0</td>\n",
       "      <td>0.000000</td>\n",
       "      <td>5.000000</td>\n",
       "      <td>NaN</td>\n",
       "      <td>NaN</td>\n",
       "    </tr>\n",
       "    <tr>\n",
       "      <th>75%</th>\n",
       "      <td>111372787.0</td>\n",
       "      <td>0.000000</td>\n",
       "      <td>5.000000</td>\n",
       "      <td>NaN</td>\n",
       "      <td>NaN</td>\n",
       "    </tr>\n",
       "    <tr>\n",
       "      <th>max</th>\n",
       "      <td>111372787.0</td>\n",
       "      <td>814.000000</td>\n",
       "      <td>5.000000</td>\n",
       "      <td>NaN</td>\n",
       "      <td>NaN</td>\n",
       "    </tr>\n",
       "  </tbody>\n",
       "</table>\n",
       "</div>"
      ],
      "text/plain": [
       "        reviews.id  reviews.numHelpful  reviews.rating  reviews.userCity  \\\n",
       "count          1.0        34131.000000    34627.000000               0.0   \n",
       "mean   111372787.0            0.630248        4.584573               NaN   \n",
       "std            NaN           13.215775        0.735653               NaN   \n",
       "min    111372787.0            0.000000        1.000000               NaN   \n",
       "25%    111372787.0            0.000000        4.000000               NaN   \n",
       "50%    111372787.0            0.000000        5.000000               NaN   \n",
       "75%    111372787.0            0.000000        5.000000               NaN   \n",
       "max    111372787.0          814.000000        5.000000               NaN   \n",
       "\n",
       "       reviews.userProvince  \n",
       "count                   0.0  \n",
       "mean                    NaN  \n",
       "std                     NaN  \n",
       "min                     NaN  \n",
       "25%                     NaN  \n",
       "50%                     NaN  \n",
       "75%                     NaN  \n",
       "max                     NaN  "
      ]
     },
     "execution_count": 2,
     "metadata": {},
     "output_type": "execute_result"
    }
   ],
   "source": [
    "temp_data=prod_rev\n",
    "temp_data.describe()"
   ]
  },
  {
   "cell_type": "markdown",
   "id": "79fa97a6",
   "metadata": {},
   "source": [
    "Based on the above descriptive stats, we observe:\n",
    "- Average rating score was *4.58* (quite high), with low standard deviation\n",
    "- Data from 2nd quatile onwardds has high review ratings\n",
    "- The *\"reviews.userCity\"* and *\"reviews.userProvince\"* are completely empty.\n",
    "- For the *\"reviews.numHelpful\"* column:\n",
    "- The average is *0.63* (quite low) with high standard deviation of *~13*\n",
    "- The most helpful review was for 814 people, from which we can infer this might be a detailed and rich review"
   ]
  },
  {
   "cell_type": "code",
   "execution_count": 3,
   "id": "102f999b",
   "metadata": {},
   "outputs": [
    {
     "name": "stdout",
     "output_type": "stream",
     "text": [
      "<class 'pandas.core.frame.DataFrame'>\n",
      "RangeIndex: 34660 entries, 0 to 34659\n",
      "Data columns (total 21 columns):\n",
      " #   Column                Non-Null Count  Dtype  \n",
      "---  ------                --------------  -----  \n",
      " 0   id                    34660 non-null  object \n",
      " 1   name                  27900 non-null  object \n",
      " 2   asins                 34658 non-null  object \n",
      " 3   brand                 34660 non-null  object \n",
      " 4   categories            34660 non-null  object \n",
      " 5   keys                  34660 non-null  object \n",
      " 6   manufacturer          34660 non-null  object \n",
      " 7   reviews.date          34621 non-null  object \n",
      " 8   reviews.dateAdded     24039 non-null  object \n",
      " 9   reviews.dateSeen      34660 non-null  object \n",
      " 10  reviews.didPurchase   1 non-null      object \n",
      " 11  reviews.doRecommend   34066 non-null  object \n",
      " 12  reviews.id            1 non-null      float64\n",
      " 13  reviews.numHelpful    34131 non-null  float64\n",
      " 14  reviews.rating        34627 non-null  float64\n",
      " 15  reviews.sourceURLs    34660 non-null  object \n",
      " 16  reviews.text          34659 non-null  object \n",
      " 17  reviews.title         34655 non-null  object \n",
      " 18  reviews.userCity      0 non-null      float64\n",
      " 19  reviews.userProvince  0 non-null      float64\n",
      " 20  reviews.username      34658 non-null  object \n",
      "dtypes: float64(5), object(16)\n",
      "memory usage: 5.6+ MB\n"
     ]
    }
   ],
   "source": [
    "temp_data.info()"
   ]
  },
  {
   "cell_type": "markdown",
   "id": "28d59a19",
   "metadata": {},
   "source": [
    "Based on the information:\n",
    "- Drop *reviews.userCity*, *reviews.userProvince* because their count is zero,i.e., there are all null values\n",
    "- Drop *reviews.id* and *reviews.didPurchase* because we are not concerned for individuals but for the product as a whole\n",
    "- Positive side of the data is that the *reviews.text* column has the least amount of missing values which is worthy for our analysis\n",
    "- The *name* column has ~7000 missing values which we can clean up using reference to their *asins* which is short of just 2 values."
   ]
  },
  {
   "cell_type": "code",
   "execution_count": 4,
   "id": "26bb30e9",
   "metadata": {},
   "outputs": [
    {
     "data": {
      "text/plain": [
       "array(['B01AHB9CN2', 'B00VINDBJK', 'B005PB2T0S', 'B002Y27P3M',\n",
       "       'B01AHB9CYG', 'B01AHB9C1E', 'B01J2G4VBG', 'B00ZV9PXP2',\n",
       "       'B0083Q04TA', 'B018Y229OU', 'B00REQKWGA', 'B00IOYAM4I',\n",
       "       'B018T075DC', nan, 'B00DU15MU4', 'B018Y225IA', 'B005PB2T2Q',\n",
       "       'B018Y23MNM', 'B00OQVZDJM', 'B00IOY8XWQ', 'B00LO29KXQ',\n",
       "       'B00QJDU3KY', 'B018Y22C2Y', 'B01BFIBRIE', 'B01J4ORNHU',\n",
       "       'B018SZT3BK', 'B00UH4D8G2', 'B018Y22BI4', 'B00TSUGXKE',\n",
       "       'B00L9EPT8O,B01E6AO69U', 'B018Y23P7K', 'B00X4WHP5E', 'B00QFQRELG',\n",
       "       'B00LW9XOJM', 'B00QL1ZN3G', 'B0189XYY0Q', 'B01BH83OOM',\n",
       "       'B00BFJAHF8', 'B00U3FPN4U', 'B002Y27P6Y', 'B006GWO5NE',\n",
       "       'B006GWO5WK'], dtype=object)"
      ]
     },
     "execution_count": 4,
     "metadata": {},
     "output_type": "execute_result"
    }
   ],
   "source": [
    "temp_data[\"asins\"].unique()"
   ]
  },
  {
   "cell_type": "code",
   "execution_count": 5,
   "id": "2c144687",
   "metadata": {},
   "outputs": [
    {
     "name": "stdout",
     "output_type": "stream",
     "text": [
      "No of unique ASINS:  42\n"
     ]
    }
   ],
   "source": [
    "unique_asins=len(temp_data[\"asins\"].unique())\n",
    "print(\"No of unique ASINS: \",unique_asins)"
   ]
  },
  {
   "cell_type": "markdown",
   "id": "ae301164",
   "metadata": {},
   "source": [
    "**Visualising the distribution for worthy numerical variables**"
   ]
  },
  {
   "cell_type": "code",
   "execution_count": 6,
   "id": "61018624",
   "metadata": {},
   "outputs": [
    {
     "data": {
      "image/png": "[encoded data removed]",
      "text/plain": [
       "<Figure size 432x288 with 1 Axes>"
      ]
     },
     "metadata": {
      "needs_background": "light"
     },
     "output_type": "display_data"
    },
    {
     "data": {
      "image/png": "[encoded data removed]",
      "text/plain": [
       "<Figure size 432x288 with 1 Axes>"
      ]
     },
     "metadata": {
      "needs_background": "light"
     },
     "output_type": "display_data"
    }
   ],
   "source": [
    "temp_data[\"reviews.numHelpful\"].hist()\n",
    "plt.show()\n",
    "temp_data[\"reviews.rating\"].hist()\n",
    "plt.show()"
   ]
  },
  {
   "cell_type": "markdown",
   "id": "a243bba0",
   "metadata": {},
   "source": [
    "Based on the graphical observations:\n",
    "- reviews.numHelpful: Similar to previous observations, most of the reviews arent that much helpful. But here the outliers are valuable to us, so we can weight those reviews more which have 50+ people found helpful\n",
    "- reviews.rating: Most of the products are rated 5 star (almost twice the amount of other rated products combined)"
   ]
  },
  {
   "cell_type": "markdown",
   "id": "704a90e9",
   "metadata": {},
   "source": [
    "# Splitting data into Train/ Test\n",
    "- Before we explore the data further we split the dataset into train and test sets\n",
    "- As mentioned earlier, most of the reviews are 5 starred, so in order to train the classifier well, we will need to stratify the data split based on the *reviews.rating* \n",
    "- We use sklearn's **StratifiedShiffleSplit** class. Before the we remove NaN values from the *reviews.rating* column and convert its datatype to *integer*"
   ]
  },
  {
   "cell_type": "code",
   "execution_count": 7,
   "id": "c00614eb",
   "metadata": {},
   "outputs": [
    {
     "name": "stdout",
     "output_type": "stream",
     "text": [
      "Before cleaning: 34660\n",
      "After cleaning: 34627\n"
     ]
    }
   ],
   "source": [
    "from sklearn.model_selection import StratifiedShuffleSplit\n",
    "print(\"Before cleaning: {}\".format(len(temp_data)))\n",
    "dataAfter=temp_data.dropna(subset=[\"reviews.rating\"]) #removes all NAN values in ratings column\n",
    "print(\"After cleaning: {}\".format(len(dataAfter)))\n",
    "dataAfter[\"reviews.rating\"]=dataAfter[\"reviews.rating\"].astype(int)"
   ]
  },
  {
   "cell_type": "code",
   "execution_count": 8,
   "id": "8e5dd671",
   "metadata": {},
   "outputs": [],
   "source": [
    "split=StratifiedShuffleSplit(n_splits=5, test_size=0.2)\n",
    "for train_index, test_index in split.split(dataAfter, dataAfter[\"reviews.rating\"]):\n",
    "    strat_train= dataAfter.reindex(train_index)\n",
    "    strat_test= dataAfter.reindex(test_index)"
   ]
  },
  {
   "cell_type": "markdown",
   "id": "4b76aefb",
   "metadata": {},
   "source": [
    "**Check to see if the train/ test sets were stratified propotionately**"
   ]
  },
  {
   "cell_type": "code",
   "execution_count": 9,
   "id": "20b5c5d4",
   "metadata": {},
   "outputs": [
    {
     "data": {
      "text/plain": [
       "(27701, 6926)"
      ]
     },
     "execution_count": 9,
     "metadata": {},
     "output_type": "execute_result"
    }
   ],
   "source": [
    "len(strat_train),len(strat_test)"
   ]
  },
  {
   "cell_type": "code",
   "execution_count": 10,
   "id": "f59abce2",
   "metadata": {},
   "outputs": [
    {
     "data": {
      "text/plain": [
       "5.0    0.684560\n",
       "4.0    0.247861\n",
       "3.0    0.043248\n",
       "1.0    0.011769\n",
       "2.0    0.011480\n",
       "Name: reviews.rating, dtype: float64"
      ]
     },
     "execution_count": 10,
     "metadata": {},
     "output_type": "execute_result"
    }
   ],
   "source": [
    "strat_train[\"reviews.rating\"].value_counts()/len(strat_train)"
   ]
  },
  {
   "cell_type": "code",
   "execution_count": 11,
   "id": "8c4fd313",
   "metadata": {},
   "outputs": [
    {
     "data": {
      "text/plain": [
       "5.0    0.692319\n",
       "4.0    0.241409\n",
       "3.0    0.043171\n",
       "2.0    0.011984\n",
       "1.0    0.010684\n",
       "Name: reviews.rating, dtype: float64"
      ]
     },
     "execution_count": 11,
     "metadata": {},
     "output_type": "execute_result"
    }
   ],
   "source": [
    "strat_test[\"reviews.rating\"].value_counts()/len(strat_test)"
   ]
  },
  {
   "cell_type": "markdown",
   "id": "8a1d4f7f",
   "metadata": {},
   "source": [
    "# Data Exploration (for Training set)"
   ]
  },
  {
   "cell_type": "code",
   "execution_count": 12,
   "id": "9a91a81d",
   "metadata": {},
   "outputs": [
    {
     "data": {
      "text/html": [
       "<div>\n",
       "<style scoped>\n",
       "    .dataframe tbody tr th:only-of-type {\n",
       "        vertical-align: middle;\n",
       "    }\n",
       "\n",
       "    .dataframe tbody tr th {\n",
       "        vertical-align: top;\n",
       "    }\n",
       "\n",
       "    .dataframe thead th {\n",
       "        text-align: right;\n",
       "    }\n",
       "</style>\n",
       "<table border=\"1\" class=\"dataframe\">\n",
       "  <thead>\n",
       "    <tr style=\"text-align: right;\">\n",
       "      <th></th>\n",
       "      <th>id</th>\n",
       "      <th>name</th>\n",
       "      <th>asins</th>\n",
       "      <th>brand</th>\n",
       "      <th>categories</th>\n",
       "      <th>keys</th>\n",
       "      <th>manufacturer</th>\n",
       "      <th>reviews.date</th>\n",
       "      <th>reviews.dateAdded</th>\n",
       "      <th>reviews.dateSeen</th>\n",
       "      <th>...</th>\n",
       "      <th>reviews.doRecommend</th>\n",
       "      <th>reviews.id</th>\n",
       "      <th>reviews.numHelpful</th>\n",
       "      <th>reviews.rating</th>\n",
       "      <th>reviews.sourceURLs</th>\n",
       "      <th>reviews.text</th>\n",
       "      <th>reviews.title</th>\n",
       "      <th>reviews.userCity</th>\n",
       "      <th>reviews.userProvince</th>\n",
       "      <th>reviews.username</th>\n",
       "    </tr>\n",
       "  </thead>\n",
       "  <tbody>\n",
       "    <tr>\n",
       "      <th>22118</th>\n",
       "      <td>AVpfl8cLLJeJML43AE3S</td>\n",
       "      <td>Echo (White),,,\\r\\nEcho (White),,,</td>\n",
       "      <td>B00L9EPT8O,B01E6AO69U</td>\n",
       "      <td>Amazon</td>\n",
       "      <td>Stereos,Remote Controls,Amazon Echo,Audio Dock...</td>\n",
       "      <td>echowhite/263039693056,echowhite/152558276095,...</td>\n",
       "      <td>Amazon</td>\n",
       "      <td>2017-05-19T00:00:00.000Z</td>\n",
       "      <td>NaN</td>\n",
       "      <td>2017-09-28T00:00:00Z,2017-09-08T00:00:00Z,2017...</td>\n",
       "      <td>...</td>\n",
       "      <td>True</td>\n",
       "      <td>NaN</td>\n",
       "      <td>0.0</td>\n",
       "      <td>4.0</td>\n",
       "      <td>http://reviews.bestbuy.com/3545/5588528/review...</td>\n",
       "      <td>Not sure about having a bot monitor my househo...</td>\n",
       "      <td>Handy info.</td>\n",
       "      <td>NaN</td>\n",
       "      <td>NaN</td>\n",
       "      <td>Alex</td>\n",
       "    </tr>\n",
       "    <tr>\n",
       "      <th>18251</th>\n",
       "      <td>AV1YnRtnglJLPUi8IJmV</td>\n",
       "      <td>Amazon Kindle Paperwhite - eBook reader - 4 GB...</td>\n",
       "      <td>B00OQVZDJM</td>\n",
       "      <td>Amazon</td>\n",
       "      <td>Walmart for Business,Office Electronics,Tablet...</td>\n",
       "      <td>amazon/b00oqvzdjm,848719056099,amazonkindlepap...</td>\n",
       "      <td>Amazon</td>\n",
       "      <td>2016-01-15T00:00:00.000Z</td>\n",
       "      <td>2017-09-05T22:09:30Z</td>\n",
       "      <td>2017-08-31T22:33:54.374Z,2017-08-02T19:49:33.4...</td>\n",
       "      <td>...</td>\n",
       "      <td>True</td>\n",
       "      <td>NaN</td>\n",
       "      <td>0.0</td>\n",
       "      <td>4.0</td>\n",
       "      <td>http://reviews.bestbuy.com/3545/9439005/review...</td>\n",
       "      <td>I take this with me when I don't want to carry...</td>\n",
       "      <td>Great for traveling.</td>\n",
       "      <td>NaN</td>\n",
       "      <td>NaN</td>\n",
       "      <td>lilcarol</td>\n",
       "    </tr>\n",
       "    <tr>\n",
       "      <th>4471</th>\n",
       "      <td>AVphgVaX1cnluZ0-DR74</td>\n",
       "      <td>Fire Tablet, 7 Display, Wi-Fi, 8 GB - Includes...</td>\n",
       "      <td>B018Y229OU</td>\n",
       "      <td>Amazon</td>\n",
       "      <td>Fire Tablets,Tablets,Computers &amp; Tablets,All T...</td>\n",
       "      <td>firetablet7displaywifi8gbincludesspecialoffers...</td>\n",
       "      <td>Amazon</td>\n",
       "      <td>2017-01-17T00:00:00.000Z</td>\n",
       "      <td>2017-05-21T03:55:11Z</td>\n",
       "      <td>2017-04-30T00:25:00.000Z,2017-06-07T08:12:00.000Z</td>\n",
       "      <td>...</td>\n",
       "      <td>True</td>\n",
       "      <td>NaN</td>\n",
       "      <td>0.0</td>\n",
       "      <td>5.0</td>\n",
       "      <td>http://reviews.bestbuy.com/3545/5025800/review...</td>\n",
       "      <td>easy to use. looks good. The prize winner was ...</td>\n",
       "      <td>Used one like it for a raffle prize</td>\n",
       "      <td>NaN</td>\n",
       "      <td>NaN</td>\n",
       "      <td>mujeralegre</td>\n",
       "    </tr>\n",
       "  </tbody>\n",
       "</table>\n",
       "<p>3 rows × 21 columns</p>\n",
       "</div>"
      ],
      "text/plain": [
       "                         id  \\\n",
       "22118  AVpfl8cLLJeJML43AE3S   \n",
       "18251  AV1YnRtnglJLPUi8IJmV   \n",
       "4471   AVphgVaX1cnluZ0-DR74   \n",
       "\n",
       "                                                    name  \\\n",
       "22118                 Echo (White),,,\\r\\nEcho (White),,,   \n",
       "18251  Amazon Kindle Paperwhite - eBook reader - 4 GB...   \n",
       "4471   Fire Tablet, 7 Display, Wi-Fi, 8 GB - Includes...   \n",
       "\n",
       "                       asins   brand  \\\n",
       "22118  B00L9EPT8O,B01E6AO69U  Amazon   \n",
       "18251             B00OQVZDJM  Amazon   \n",
       "4471              B018Y229OU  Amazon   \n",
       "\n",
       "                                              categories  \\\n",
       "22118  Stereos,Remote Controls,Amazon Echo,Audio Dock...   \n",
       "18251  Walmart for Business,Office Electronics,Tablet...   \n",
       "4471   Fire Tablets,Tablets,Computers & Tablets,All T...   \n",
       "\n",
       "                                                    keys manufacturer  \\\n",
       "22118  echowhite/263039693056,echowhite/152558276095,...       Amazon   \n",
       "18251  amazon/b00oqvzdjm,848719056099,amazonkindlepap...       Amazon   \n",
       "4471   firetablet7displaywifi8gbincludesspecialoffers...       Amazon   \n",
       "\n",
       "                   reviews.date     reviews.dateAdded  \\\n",
       "22118  2017-05-19T00:00:00.000Z                   NaN   \n",
       "18251  2016-01-15T00:00:00.000Z  2017-09-05T22:09:30Z   \n",
       "4471   2017-01-17T00:00:00.000Z  2017-05-21T03:55:11Z   \n",
       "\n",
       "                                        reviews.dateSeen  ...  \\\n",
       "22118  2017-09-28T00:00:00Z,2017-09-08T00:00:00Z,2017...  ...   \n",
       "18251  2017-08-31T22:33:54.374Z,2017-08-02T19:49:33.4...  ...   \n",
       "4471   2017-04-30T00:25:00.000Z,2017-06-07T08:12:00.000Z  ...   \n",
       "\n",
       "      reviews.doRecommend reviews.id  reviews.numHelpful  reviews.rating  \\\n",
       "22118                True        NaN                 0.0             4.0   \n",
       "18251                True        NaN                 0.0             4.0   \n",
       "4471                 True        NaN                 0.0             5.0   \n",
       "\n",
       "                                      reviews.sourceURLs  \\\n",
       "22118  http://reviews.bestbuy.com/3545/5588528/review...   \n",
       "18251  http://reviews.bestbuy.com/3545/9439005/review...   \n",
       "4471   http://reviews.bestbuy.com/3545/5025800/review...   \n",
       "\n",
       "                                            reviews.text  \\\n",
       "22118  Not sure about having a bot monitor my househo...   \n",
       "18251  I take this with me when I don't want to carry...   \n",
       "4471   easy to use. looks good. The prize winner was ...   \n",
       "\n",
       "                             reviews.title reviews.userCity  \\\n",
       "22118                          Handy info.              NaN   \n",
       "18251                 Great for traveling.              NaN   \n",
       "4471   Used one like it for a raffle prize              NaN   \n",
       "\n",
       "       reviews.userProvince  reviews.username  \n",
       "22118                   NaN              Alex  \n",
       "18251                   NaN          lilcarol  \n",
       "4471                    NaN       mujeralegre  \n",
       "\n",
       "[3 rows x 21 columns]"
      ]
     },
     "execution_count": 12,
     "metadata": {},
     "output_type": "execute_result"
    }
   ],
   "source": [
    "review_data=strat_train.copy()\n",
    "review_data.head(3)"
   ]
  },
  {
   "cell_type": "markdown",
   "id": "5747c4a1",
   "metadata": {},
   "source": [
    "We explore the following columns:\n",
    "- asins\n",
    "- name\n",
    "- reviews.rating\n",
    "- reviews.doRecommend\n",
    "- (review.numHelpful - not possible because variation is high and majority being in the range 0-13)\n",
    "- (reviews.text - way too long to explore properly)"
   ]
  },
  {
   "cell_type": "markdown",
   "id": "93dc8256",
   "metadata": {},
   "source": [
    "## names and ASINS"
   ]
  },
  {
   "cell_type": "code",
   "execution_count": 13,
   "id": "e7555765",
   "metadata": {},
   "outputs": [
    {
     "data": {
      "text/plain": [
       "(47, 36)"
      ]
     },
     "execution_count": 13,
     "metadata": {},
     "output_type": "execute_result"
    }
   ],
   "source": [
    "len(review_data[\"name\"].unique()), len(review_data[\"asins\"].unique())"
   ]
  },
  {
   "cell_type": "code",
   "execution_count": 14,
   "id": "55aedeed",
   "metadata": {},
   "outputs": [
    {
     "name": "stdout",
     "output_type": "stream",
     "text": [
      "<class 'pandas.core.frame.DataFrame'>\n",
      "Int64Index: 27701 entries, 22118 to 10337\n",
      "Data columns (total 21 columns):\n",
      " #   Column                Non-Null Count  Dtype  \n",
      "---  ------                --------------  -----  \n",
      " 0   id                    27671 non-null  object \n",
      " 1   name                  22209 non-null  object \n",
      " 2   asins                 27669 non-null  object \n",
      " 3   brand                 27671 non-null  object \n",
      " 4   categories            27671 non-null  object \n",
      " 5   keys                  27671 non-null  object \n",
      " 6   manufacturer          27671 non-null  object \n",
      " 7   reviews.date          27652 non-null  object \n",
      " 8   reviews.dateAdded     19259 non-null  object \n",
      " 9   reviews.dateSeen      27671 non-null  object \n",
      " 10  reviews.didPurchase   1 non-null      object \n",
      " 11  reviews.doRecommend   27243 non-null  object \n",
      " 12  reviews.id            1 non-null      float64\n",
      " 13  reviews.numHelpful    27294 non-null  float64\n",
      " 14  reviews.rating        27671 non-null  float64\n",
      " 15  reviews.sourceURLs    27671 non-null  object \n",
      " 16  reviews.text          27670 non-null  object \n",
      " 17  reviews.title         27666 non-null  object \n",
      " 18  reviews.userCity      0 non-null      float64\n",
      " 19  reviews.userProvince  0 non-null      float64\n",
      " 20  reviews.username      27670 non-null  object \n",
      "dtypes: float64(5), object(16)\n",
      "memory usage: 4.6+ MB\n"
     ]
    }
   ],
   "source": [
    "review_data.info()"
   ]
  },
  {
   "cell_type": "markdown",
   "id": "2f6f58d0",
   "metadata": {},
   "source": [
    "There are only 36 uniques ASINS\n",
    "- for easch ASINS, there are multiple names\n",
    "- there are cases where vendors might have entered different name for same ASINS\n",
    "- there could be some NaN names associated with ASINS, alongwith names with slight variations"
   ]
  },
  {
   "cell_type": "code",
   "execution_count": 15,
   "id": "283c0044",
   "metadata": {
    "scrolled": true
   },
   "outputs": [
    {
     "data": {
      "text/plain": [
       "asins\n",
       "B005PB2T0S               [Amazon Kindle Lighted Leather Cover,,,\\r\\nAma...\n",
       "B005PB2T2Q               [Fire Kids Edition Tablet, 7 Display, Wi-Fi, 1...\n",
       "B00DU15MU4               [Brand New Amazon Kindle Fire 16gb 7 Ips Displ...\n",
       "B00IOY8XWQ               [Kindle Voyage E-reader, 6 High-Resolution Dis...\n",
       "B00IOYAM4I               [Brand New Amazon Kindle Fire 16gb 7 Ips Displ...\n",
       "B00L9EPT8O,B01E6AO69U    [Echo (White),,,\\r\\nEcho (White),,,, Amazon Fi...\n",
       "B00LO29KXQ               [Fire Tablet, 7 Display, Wi-Fi, 8 GB - Include...\n",
       "B00LW9XOJM                                                           [nan]\n",
       "B00OQVZDJM               [Amazon Kindle Paperwhite - eBook reader - 4 G...\n",
       "B00QFQRELG                                                           [nan]\n",
       "B00QJDU3KY               [Fire Tablet, 7 Display, Wi-Fi, 8 GB - Include...\n",
       "B00QL1ZN3G                                                           [nan]\n",
       "B00REQKWGA               [Brand New Amazon Kindle Fire 16gb 7 Ips Displ...\n",
       "B00TSUGXKE                            [Echo (White),,,\\r\\nEcho (White),,,]\n",
       "B00U3FPN4U                                                           [nan]\n",
       "B00UH4D8G2                            [Echo (White),,,\\r\\nEcho (White),,,]\n",
       "B00VINDBJK               [Kindle Oasis E-reader with Leather Charging C...\n",
       "B00X4WHP5E                                                           [nan]\n",
       "B00ZV9PXP2               [Fire Tablet, 7 Display, Wi-Fi, 8 GB - Include...\n",
       "B0189XYY0Q                                                           [nan]\n",
       "B018SZT3BK               [Fire Tablet, 7 Display, Wi-Fi, 8 GB - Include...\n",
       "B018T075DC               [Brand New Amazon Kindle Fire 16gb 7 Ips Displ...\n",
       "B018Y225IA               [Brand New Amazon Kindle Fire 16gb 7 Ips Displ...\n",
       "B018Y229OU               [Fire Tablet, 7 Display, Wi-Fi, 8 GB - Include...\n",
       "B018Y22BI4                            [Echo (White),,,\\r\\nEcho (White),,,]\n",
       "B018Y22C2Y               [Fire Tablet, 7 Display, Wi-Fi, 8 GB - Include...\n",
       "B018Y23MNM               [Amazon Kindle Paperwhite - eBook reader - 4 G...\n",
       "B018Y23P7K                                                           [nan]\n",
       "B01AHB9C1E               [Amazon 5W USB Official OEM Charger and Power ...\n",
       "B01AHB9CN2               [All-New Fire HD 8 Tablet, 8 HD Display, Wi-Fi...\n",
       "B01AHB9CYG               [All-New Fire HD 8 Tablet, 8 HD Display, Wi-Fi...\n",
       "B01BFIBRIE               [Fire Tablet, 7 Display, Wi-Fi, 8 GB - Include...\n",
       "B01BH83OOM                                                           [nan]\n",
       "B01J2G4VBG               [All-New Kindle E-reader - Black, 6 Glare-Free...\n",
       "B01J4ORNHU               [Fire Tablet, 7 Display, Wi-Fi, 8 GB - Include...\n",
       "Name: name, dtype: object"
      ]
     },
     "execution_count": 15,
     "metadata": {},
     "output_type": "execute_result"
    }
   ],
   "source": [
    "review_data.groupby(\"asins\")[\"name\"].unique()"
   ]
  },
  {
   "cell_type": "markdown",
   "id": "94a352d1",
   "metadata": {},
   "source": [
    "Here, we can see there is one product having 2 different ASINS.<br>\n",
    "Therefore, checking for those 2 ASINS"
   ]
  },
  {
   "cell_type": "code",
   "execution_count": 16,
   "id": "da52e4e3",
   "metadata": {},
   "outputs": [
    {
     "name": "stdout",
     "output_type": "stream",
     "text": [
      "Echo (White),,,\r\n",
      "Echo (White),,,\n",
      "Amazon Fire Tv,,,\r\n",
      "Amazon Fire Tv,,,\n",
      "nan\n",
      "Amazon - Amazon Tap Portable Bluetooth and Wi-Fi Speaker - Black,,,\r\n",
      "Amazon - Amazon Tap Portable Bluetooth and Wi-Fi Speaker - Black,,,\n",
      "Amazon Fire Hd 10 Tablet, Wi-Fi, 16 Gb, Special Offers - Silver Aluminum,,,\r\n",
      "Amazon Fire Hd 10 Tablet, Wi-Fi, 16 Gb, Special Offers - Silver Aluminum,,,\n",
      "Amazon 9W PowerFast Official OEM USB Charger and Power Adapter for Fire Tablets and Kindle eReaders,,,\r\n",
      "Amazon 9W PowerFast Official OEM USB Charger and Power Adapter for Fire Tablets and Kindle eReaders,,,\n",
      "Kindle Dx Leather Cover, Black (fits 9.7 Display, Latest and 2nd Generation Kindle Dxs),,\n",
      "Amazon Fire Hd 6 Standing Protective Case(4th Generation - 2014 Release), Cayenne Red,,,\r\n",
      "Amazon Fire Hd 6 Standing Protective Case(4th Generation - 2014 Release), Cayenne Red,,,\n",
      "Amazon Fire Hd 6 Standing Protective Case(4th Generation - 2014 Release), Cayenne Red,,,\r\n",
      "Amazon 5W USB Official OEM Charger and Power Adapter for Fire Tablets and Kindle eReaders,,,\n",
      "New Amazon Kindle Fire Hd 9w Powerfast Adapter Charger + Micro Usb Angle Cable,,,\r\n",
      "New Amazon Kindle Fire Hd 9w Powerfast Adapter Charger + Micro Usb Angle Cable,,,\n",
      "Amazon Kindle Fire 5ft USB to Micro-USB Cable (works with most Micro-USB Tablets),,,\r\n",
      "Amazon Kindle Fire 5ft USB to Micro-USB Cable (works with most Micro-USB Tablets),,,\n",
      "Amazon 5W USB Official OEM Charger and Power Adapter for Fire Tablets and Kindle eReaders,,,\r\n",
      "Amazon 5W USB Official OEM Charger and Power Adapter for Fire Tablets and Kindle eReaders,,,\n",
      "Echo (Black),,,\r\n",
      "Amazon 9W PowerFast Official OEM USB Charger and Power Adapter for Fire Tablets and Kindle eReaders,,,\n",
      "Coconut Water Red Tea 16.5 Oz (pack of 12),,,\r\n",
      "Amazon Fire Tv,,,\n",
      "Amazon Fire Tv,,,\r\n",
      "Kindle Dx Leather Cover, Black (fits 9.7 Display, Latest and 2nd Generation Kindle Dxs)\",,\n",
      "Echo (Black),,,\r\n",
      "Echo (Black),,,\n",
      "New Amazon Kindle Fire Hd 9w Powerfast Adapter Charger + Micro Usb Angle Cable,,,\r\n",
      "\n"
     ]
    }
   ],
   "source": [
    "different_names = review_data[review_data[\"asins\"] == \"B00L9EPT8O,B01E6AO69U\"][\"name\"].unique()\n",
    "for name in different_names:\n",
    "    print(name)"
   ]
  },
  {
   "cell_type": "code",
   "execution_count": 17,
   "id": "57a396ae",
   "metadata": {},
   "outputs": [
    {
     "data": {
      "text/plain": [
       "Echo (White),,,\\r\\nEcho (White),,,                                                                                                                                                                                  2275\n",
       "Amazon Fire Tv,,,\\r\\nAmazon Fire Tv,,,                                                                                                                                                                              2023\n",
       "Amazon - Amazon Tap Portable Bluetooth and Wi-Fi Speaker - Black,,,\\r\\nAmazon - Amazon Tap Portable Bluetooth and Wi-Fi Speaker - Black,,,                                                                           253\n",
       "Amazon Fire Hd 10 Tablet, Wi-Fi, 16 Gb, Special Offers - Silver Aluminum,,,\\r\\nAmazon Fire Hd 10 Tablet, Wi-Fi, 16 Gb, Special Offers - Silver Aluminum,,,                                                           101\n",
       "Amazon 9W PowerFast Official OEM USB Charger and Power Adapter for Fire Tablets and Kindle eReaders,,,\\r\\nAmazon 9W PowerFast Official OEM USB Charger and Power Adapter for Fire Tablets and Kindle eReaders,,,      30\n",
       "Kindle Dx Leather Cover, Black (fits 9.7 Display, Latest and 2nd Generation Kindle Dxs),,                                                                                                                              9\n",
       "Amazon 5W USB Official OEM Charger and Power Adapter for Fire Tablets and Kindle eReaders,,,\\r\\nAmazon 5W USB Official OEM Charger and Power Adapter for Fire Tablets and Kindle eReaders,,,                           7\n",
       "New Amazon Kindle Fire Hd 9w Powerfast Adapter Charger + Micro Usb Angle Cable,,,\\r\\nNew Amazon Kindle Fire Hd 9w Powerfast Adapter Charger + Micro Usb Angle Cable,,,                                                 6\n",
       "Amazon Fire Hd 6 Standing Protective Case(4th Generation - 2014 Release), Cayenne Red,,,\\r\\nAmazon Fire Hd 6 Standing Protective Case(4th Generation - 2014 Release), Cayenne Red,,,                                   5\n",
       "Amazon Kindle Fire 5ft USB to Micro-USB Cable (works with most Micro-USB Tablets),,,\\r\\nAmazon Kindle Fire 5ft USB to Micro-USB Cable (works with most Micro-USB Tablets),,,                                           2\n",
       "Echo (Black),,,\\r\\nEcho (Black),,,                                                                                                                                                                                     2\n",
       "Amazon Fire Tv,,,\\r\\nKindle Dx Leather Cover, Black (fits 9.7 Display, Latest and 2nd Generation Kindle Dxs)\",,                                                                                                        1\n",
       "Amazon Fire Hd 6 Standing Protective Case(4th Generation - 2014 Release), Cayenne Red,,,\\r\\nAmazon 5W USB Official OEM Charger and Power Adapter for Fire Tablets and Kindle eReaders,,,                               1\n",
       "Coconut Water Red Tea 16.5 Oz (pack of 12),,,\\r\\nAmazon Fire Tv,,,                                                                                                                                                     1\n",
       "Echo (Black),,,\\r\\nAmazon 9W PowerFast Official OEM USB Charger and Power Adapter for Fire Tablets and Kindle eReaders,,,                                                                                              1\n",
       "New Amazon Kindle Fire Hd 9w Powerfast Adapter Charger + Micro Usb Angle Cable,,,\\r\\n                                                                                                                                  1\n",
       "Name: name, dtype: int64"
      ]
     },
     "execution_count": 17,
     "metadata": {},
     "output_type": "execute_result"
    }
   ],
   "source": [
    "review_data[review_data[\"asins\"] == \"B00L9EPT8O,B01E6AO69U\"][\"name\"].value_counts()"
   ]
  },
  {
   "cell_type": "markdown",
   "id": "c4466d9b",
   "metadata": {},
   "source": [
    "We have confirmed that for a single ASIN we can have multiple names.<br>\n",
    "**Therfore we will concerm ourselves with ASINS, not the product names**"
   ]
  },
  {
   "cell_type": "code",
   "execution_count": 18,
   "id": "ea77527d",
   "metadata": {},
   "outputs": [
    {
     "data": {
      "image/png": "[encoded data removed]",
      "text/plain": [
       "<Figure size 1152x720 with 2 Axes>"
      ]
     },
     "metadata": {
      "needs_background": "light"
     },
     "output_type": "display_data"
    }
   ],
   "source": [
    "fig=plt.figure(figsize=(16,10))\n",
    "ax1=plt.subplot(211)\n",
    "ax2=plt.subplot(212, sharex=ax1)\n",
    "review_data[\"asins\"].value_counts().plot(kind=\"bar\", ax=ax1, title=\"ASINS Frequency\")\n",
    "np.log10(review_data[\"asins\"].value_counts()).plot(kind=\"bar\", ax=ax2, title=\"ASINS Frequency (Log10 adjusted)\")\n",
    "plt.show()"
   ]
  },
  {
   "cell_type": "markdown",
   "id": "e40502f7",
   "metadata": {},
   "source": [
    "- Based on the bar graph for ASINS, we can see certain products have higher review counts indicating higher sales in those specific products\n",
    "- It is a \"right- tailed\" distribution which also suggest that certain products with higher sales which can correlate to higher ASINs frequencies in the reviews\n",
    "\n",
    "**This answers one of our questions that certain ASINs have higher sales, some have lower which in turn dictates that the products be kept or dropped.**"
   ]
  },
  {
   "cell_type": "code",
   "execution_count": 19,
   "id": "09e4a39a",
   "metadata": {},
   "outputs": [
    {
     "data": {
      "text/plain": [
       "4.583679664630841"
      ]
     },
     "execution_count": 19,
     "metadata": {},
     "output_type": "execute_result"
    }
   ],
   "source": [
    "review_data[\"reviews.rating\"].mean()"
   ]
  },
  {
   "cell_type": "markdown",
   "id": "6ad9144a",
   "metadata": {},
   "source": [
    "## reviews.rating and ASINS"
   ]
  },
  {
   "cell_type": "code",
   "execution_count": 20,
   "id": "35155404",
   "metadata": {},
   "outputs": [
    {
     "data": {
      "image/png": "[encoded data removed]",
      "text/plain": [
       "<Figure size 1152x864 with 2 Axes>"
      ]
     },
     "metadata": {
      "needs_background": "light"
     },
     "output_type": "display_data"
    }
   ],
   "source": [
    "asins_count_index= review_data[\"asins\"].value_counts().index\n",
    "fig=plt.figure(figsize=(16,12))\n",
    "ax1=plt.subplot(211)\n",
    "ax2=plt.subplot(212, sharex=ax1)\n",
    "review_data[\"asins\"].value_counts().plot(kind=\"bar\",ax=ax1, title=\"ASINS Frequency\")\n",
    "ax2=sn.pointplot(x=\"asins\", y=\"reviews.rating\", order= asins_count_index, data=review_data)\n",
    "plt.xticks(rotation=90)\n",
    "plt.show()"
   ]
  },
  {
   "cell_type": "markdown",
   "id": "8bb70d92",
   "metadata": {},
   "source": [
    "- 1. The most frequently brought products have average review ratings in the range 4.5- 4.8, with little variance\n",
    "- 2. For ASINS with lower frequency, we can see their corresponding average review ratings has significantly higher variance as shown by the length of the vertical lines. As a result, the average ratings for ASINS with lower frequencies are not significant for our analysis due higher variance.\n",
    "- 3. Also for products with lower frequencies ASINS having lower ratings, we suggest that this is a result of lower quality products.\n",
    "- 4. Last 3 ASINS with low frequecies, have no variance and 5 star mean rating because of very few ratings available which should not be considered."
   ]
  },
  {
   "cell_type": "markdown",
   "id": "a2e0b194",
   "metadata": {},
   "source": [
    "## reviews.doRecommend and ASINS"
   ]
  },
  {
   "cell_type": "code",
   "execution_count": 21,
   "id": "76f2f8bd",
   "metadata": {},
   "outputs": [
    {
     "data": {
      "image/png": "[encoded data removed]",
      "text/plain": [
       "<Figure size 1152x864 with 2 Axes>"
      ]
     },
     "metadata": {
      "needs_background": "light"
     },
     "output_type": "display_data"
    }
   ],
   "source": [
    "asins_count_index= review_data[\"asins\"].value_counts().index\n",
    "fig=plt.figure(figsize=(16,12))\n",
    "ax1=plt.subplot(211)\n",
    "ax2=plt.subplot(212, sharex=ax1)\n",
    "review_data[\"asins\"].value_counts().plot(kind=\"bar\",ax=ax1, title=\"ASINS Frequency\")\n",
    "ax2=sn.pointplot(x=\"asins\", y=\"reviews.doRecommend\", order= asins_count_index, data=review_data)\n",
    "plt.xticks(rotation=90)\n",
    "plt.show()"
   ]
  },
  {
   "cell_type": "markdown",
   "id": "46534087",
   "metadata": {},
   "source": [
    "- From the analysis, we can say that the first 19 ASINS have high customer recommendation which goes in line with the \"reviews.rating/ASINS\" analysis above where they had average rating between 4.0 and 5.0.\n",
    "- For lower frequency ASINS, the data is dispersedwith high standard deviation due to lower sample size."
   ]
  },
  {
   "cell_type": "markdown",
   "id": "8ec979df",
   "metadata": {},
   "source": [
    "# Correlations"
   ]
  },
  {
   "cell_type": "code",
   "execution_count": 22,
   "id": "37cdb7f5",
   "metadata": {},
   "outputs": [
    {
     "data": {
      "text/html": [
       "<div>\n",
       "<style scoped>\n",
       "    .dataframe tbody tr th:only-of-type {\n",
       "        vertical-align: middle;\n",
       "    }\n",
       "\n",
       "    .dataframe tbody tr th {\n",
       "        vertical-align: top;\n",
       "    }\n",
       "\n",
       "    .dataframe thead th {\n",
       "        text-align: right;\n",
       "    }\n",
       "</style>\n",
       "<table border=\"1\" class=\"dataframe\">\n",
       "  <thead>\n",
       "    <tr style=\"text-align: right;\">\n",
       "      <th></th>\n",
       "      <th>reviews.id</th>\n",
       "      <th>reviews.numHelpful</th>\n",
       "      <th>reviews.rating</th>\n",
       "      <th>reviews.userCity</th>\n",
       "      <th>reviews.userProvince</th>\n",
       "    </tr>\n",
       "  </thead>\n",
       "  <tbody>\n",
       "    <tr>\n",
       "      <th>reviews.id</th>\n",
       "      <td>NaN</td>\n",
       "      <td>NaN</td>\n",
       "      <td>NaN</td>\n",
       "      <td>NaN</td>\n",
       "      <td>NaN</td>\n",
       "    </tr>\n",
       "    <tr>\n",
       "      <th>reviews.numHelpful</th>\n",
       "      <td>NaN</td>\n",
       "      <td>1.000000</td>\n",
       "      <td>-0.042186</td>\n",
       "      <td>NaN</td>\n",
       "      <td>NaN</td>\n",
       "    </tr>\n",
       "    <tr>\n",
       "      <th>reviews.rating</th>\n",
       "      <td>NaN</td>\n",
       "      <td>-0.042186</td>\n",
       "      <td>1.000000</td>\n",
       "      <td>NaN</td>\n",
       "      <td>NaN</td>\n",
       "    </tr>\n",
       "    <tr>\n",
       "      <th>reviews.userCity</th>\n",
       "      <td>NaN</td>\n",
       "      <td>NaN</td>\n",
       "      <td>NaN</td>\n",
       "      <td>NaN</td>\n",
       "      <td>NaN</td>\n",
       "    </tr>\n",
       "    <tr>\n",
       "      <th>reviews.userProvince</th>\n",
       "      <td>NaN</td>\n",
       "      <td>NaN</td>\n",
       "      <td>NaN</td>\n",
       "      <td>NaN</td>\n",
       "      <td>NaN</td>\n",
       "    </tr>\n",
       "  </tbody>\n",
       "</table>\n",
       "</div>"
      ],
      "text/plain": [
       "                      reviews.id  reviews.numHelpful  reviews.rating  \\\n",
       "reviews.id                   NaN                 NaN             NaN   \n",
       "reviews.numHelpful           NaN            1.000000       -0.042186   \n",
       "reviews.rating               NaN           -0.042186        1.000000   \n",
       "reviews.userCity             NaN                 NaN             NaN   \n",
       "reviews.userProvince         NaN                 NaN             NaN   \n",
       "\n",
       "                      reviews.userCity  reviews.userProvince  \n",
       "reviews.id                         NaN                   NaN  \n",
       "reviews.numHelpful                 NaN                   NaN  \n",
       "reviews.rating                     NaN                   NaN  \n",
       "reviews.userCity                   NaN                   NaN  \n",
       "reviews.userProvince               NaN                   NaN  "
      ]
     },
     "execution_count": 22,
     "metadata": {},
     "output_type": "execute_result"
    }
   ],
   "source": [
    "corr_matrix=review_data.corr()\n",
    "corr_matrix"
   ]
  },
  {
   "cell_type": "code",
   "execution_count": 23,
   "id": "6be32a73",
   "metadata": {},
   "outputs": [
    {
     "data": {
      "text/html": [
       "<div>\n",
       "<style scoped>\n",
       "    .dataframe tbody tr th:only-of-type {\n",
       "        vertical-align: middle;\n",
       "    }\n",
       "\n",
       "    .dataframe tbody tr th {\n",
       "        vertical-align: top;\n",
       "    }\n",
       "\n",
       "    .dataframe thead th {\n",
       "        text-align: right;\n",
       "    }\n",
       "</style>\n",
       "<table border=\"1\" class=\"dataframe\">\n",
       "  <thead>\n",
       "    <tr style=\"text-align: right;\">\n",
       "      <th></th>\n",
       "      <th>asins</th>\n",
       "    </tr>\n",
       "  </thead>\n",
       "  <tbody>\n",
       "    <tr>\n",
       "      <th>B018Y229OU</th>\n",
       "      <td>8754</td>\n",
       "    </tr>\n",
       "    <tr>\n",
       "      <th>B00L9EPT8O,B01E6AO69U</th>\n",
       "      <td>5270</td>\n",
       "    </tr>\n",
       "    <tr>\n",
       "      <th>B00U3FPN4U</th>\n",
       "      <td>4102</td>\n",
       "    </tr>\n",
       "    <tr>\n",
       "      <th>B00OQVZDJM</th>\n",
       "      <td>2558</td>\n",
       "    </tr>\n",
       "    <tr>\n",
       "      <th>B01AHB9CN2</th>\n",
       "      <td>2245</td>\n",
       "    </tr>\n",
       "  </tbody>\n",
       "</table>\n",
       "</div>"
      ],
      "text/plain": [
       "                       asins\n",
       "B018Y229OU              8754\n",
       "B00L9EPT8O,B01E6AO69U   5270\n",
       "B00U3FPN4U              4102\n",
       "B00OQVZDJM              2558\n",
       "B01AHB9CN2              2245"
      ]
     },
     "execution_count": 23,
     "metadata": {},
     "output_type": "execute_result"
    }
   ],
   "source": [
    "asins= review_data[\"asins\"].value_counts().to_frame()\n",
    "asins.head()"
   ]
  },
  {
   "cell_type": "code",
   "execution_count": 24,
   "id": "fe760c15",
   "metadata": {},
   "outputs": [
    {
     "data": {
      "text/html": [
       "<div>\n",
       "<style scoped>\n",
       "    .dataframe tbody tr th:only-of-type {\n",
       "        vertical-align: middle;\n",
       "    }\n",
       "\n",
       "    .dataframe tbody tr th {\n",
       "        vertical-align: top;\n",
       "    }\n",
       "\n",
       "    .dataframe thead th {\n",
       "        text-align: right;\n",
       "    }\n",
       "</style>\n",
       "<table border=\"1\" class=\"dataframe\">\n",
       "  <thead>\n",
       "    <tr style=\"text-align: right;\">\n",
       "      <th></th>\n",
       "      <th>reviews.rating</th>\n",
       "    </tr>\n",
       "    <tr>\n",
       "      <th>asins</th>\n",
       "      <th></th>\n",
       "    </tr>\n",
       "  </thead>\n",
       "  <tbody>\n",
       "    <tr>\n",
       "      <th>B005PB2T0S</th>\n",
       "      <td>4.000000</td>\n",
       "    </tr>\n",
       "    <tr>\n",
       "      <th>B005PB2T2Q</th>\n",
       "      <td>3.666667</td>\n",
       "    </tr>\n",
       "    <tr>\n",
       "      <th>B00DU15MU4</th>\n",
       "      <td>5.000000</td>\n",
       "    </tr>\n",
       "    <tr>\n",
       "      <th>B00IOY8XWQ</th>\n",
       "      <td>4.739696</td>\n",
       "    </tr>\n",
       "    <tr>\n",
       "      <th>B00IOYAM4I</th>\n",
       "      <td>4.810811</td>\n",
       "    </tr>\n",
       "  </tbody>\n",
       "</table>\n",
       "</div>"
      ],
      "text/plain": [
       "            reviews.rating\n",
       "asins                     \n",
       "B005PB2T0S        4.000000\n",
       "B005PB2T2Q        3.666667\n",
       "B00DU15MU4        5.000000\n",
       "B00IOY8XWQ        4.739696\n",
       "B00IOYAM4I        4.810811"
      ]
     },
     "execution_count": 24,
     "metadata": {},
     "output_type": "execute_result"
    }
   ],
   "source": [
    "avg_ratings=review_data.groupby(\"asins\")[\"reviews.rating\"].mean().to_frame()\n",
    "avg_ratings.head()"
   ]
  },
  {
   "cell_type": "code",
   "execution_count": 25,
   "id": "3ca44fc3",
   "metadata": {},
   "outputs": [
    {
     "data": {
      "text/html": [
       "<div>\n",
       "<style scoped>\n",
       "    .dataframe tbody tr th:only-of-type {\n",
       "        vertical-align: middle;\n",
       "    }\n",
       "\n",
       "    .dataframe tbody tr th {\n",
       "        vertical-align: top;\n",
       "    }\n",
       "\n",
       "    .dataframe thead th {\n",
       "        text-align: right;\n",
       "    }\n",
       "</style>\n",
       "<table border=\"1\" class=\"dataframe\">\n",
       "  <thead>\n",
       "    <tr style=\"text-align: right;\">\n",
       "      <th></th>\n",
       "      <th>asins</th>\n",
       "      <th>reviews.rating</th>\n",
       "    </tr>\n",
       "  </thead>\n",
       "  <tbody>\n",
       "    <tr>\n",
       "      <th>B018Y229OU</th>\n",
       "      <td>8754</td>\n",
       "      <td>4.450651</td>\n",
       "    </tr>\n",
       "    <tr>\n",
       "      <th>B00L9EPT8O,B01E6AO69U</th>\n",
       "      <td>5270</td>\n",
       "      <td>4.664516</td>\n",
       "    </tr>\n",
       "    <tr>\n",
       "      <th>B00U3FPN4U</th>\n",
       "      <td>4102</td>\n",
       "      <td>4.705022</td>\n",
       "    </tr>\n",
       "    <tr>\n",
       "      <th>B00OQVZDJM</th>\n",
       "      <td>2558</td>\n",
       "      <td>4.776779</td>\n",
       "    </tr>\n",
       "    <tr>\n",
       "      <th>B01AHB9CN2</th>\n",
       "      <td>2245</td>\n",
       "      <td>4.580846</td>\n",
       "    </tr>\n",
       "    <tr>\n",
       "      <th>B018Y23MNM</th>\n",
       "      <td>1330</td>\n",
       "      <td>4.531579</td>\n",
       "    </tr>\n",
       "    <tr>\n",
       "      <th>B018Y225IA</th>\n",
       "      <td>820</td>\n",
       "      <td>4.504878</td>\n",
       "    </tr>\n",
       "    <tr>\n",
       "      <th>B01BH83OOM</th>\n",
       "      <td>506</td>\n",
       "      <td>4.531621</td>\n",
       "    </tr>\n",
       "    <tr>\n",
       "      <th>B00IOY8XWQ</th>\n",
       "      <td>461</td>\n",
       "      <td>4.739696</td>\n",
       "    </tr>\n",
       "    <tr>\n",
       "      <th>B01J2G4VBG</th>\n",
       "      <td>320</td>\n",
       "      <td>4.468750</td>\n",
       "    </tr>\n",
       "    <tr>\n",
       "      <th>B00TSUGXKE</th>\n",
       "      <td>290</td>\n",
       "      <td>4.400000</td>\n",
       "    </tr>\n",
       "    <tr>\n",
       "      <th>B018SZT3BK</th>\n",
       "      <td>220</td>\n",
       "      <td>4.577273</td>\n",
       "    </tr>\n",
       "    <tr>\n",
       "      <th>B0189XYY0Q</th>\n",
       "      <td>206</td>\n",
       "      <td>4.572816</td>\n",
       "    </tr>\n",
       "    <tr>\n",
       "      <th>B00ZV9PXP2</th>\n",
       "      <td>170</td>\n",
       "      <td>4.523529</td>\n",
       "    </tr>\n",
       "    <tr>\n",
       "      <th>B01AHB9CYG</th>\n",
       "      <td>123</td>\n",
       "      <td>4.609756</td>\n",
       "    </tr>\n",
       "    <tr>\n",
       "      <th>B00QFQRELG</th>\n",
       "      <td>62</td>\n",
       "      <td>4.241935</td>\n",
       "    </tr>\n",
       "    <tr>\n",
       "      <th>B00VINDBJK</th>\n",
       "      <td>54</td>\n",
       "      <td>4.666667</td>\n",
       "    </tr>\n",
       "    <tr>\n",
       "      <th>B00IOYAM4I</th>\n",
       "      <td>37</td>\n",
       "      <td>4.810811</td>\n",
       "    </tr>\n",
       "    <tr>\n",
       "      <th>B01BFIBRIE</th>\n",
       "      <td>27</td>\n",
       "      <td>4.592593</td>\n",
       "    </tr>\n",
       "    <tr>\n",
       "      <th>B00QL1ZN3G</th>\n",
       "      <td>14</td>\n",
       "      <td>3.071429</td>\n",
       "    </tr>\n",
       "    <tr>\n",
       "      <th>B01J4ORNHU</th>\n",
       "      <td>14</td>\n",
       "      <td>4.428571</td>\n",
       "    </tr>\n",
       "    <tr>\n",
       "      <th>B00LW9XOJM</th>\n",
       "      <td>13</td>\n",
       "      <td>3.923077</td>\n",
       "    </tr>\n",
       "    <tr>\n",
       "      <th>B00QJDU3KY</th>\n",
       "      <td>12</td>\n",
       "      <td>4.666667</td>\n",
       "    </tr>\n",
       "    <tr>\n",
       "      <th>B01AHB9C1E</th>\n",
       "      <td>11</td>\n",
       "      <td>4.363636</td>\n",
       "    </tr>\n",
       "    <tr>\n",
       "      <th>B018Y22BI4</th>\n",
       "      <td>8</td>\n",
       "      <td>4.625000</td>\n",
       "    </tr>\n",
       "    <tr>\n",
       "      <th>B00UH4D8G2</th>\n",
       "      <td>7</td>\n",
       "      <td>2.857143</td>\n",
       "    </tr>\n",
       "    <tr>\n",
       "      <th>B00X4WHP5E</th>\n",
       "      <td>6</td>\n",
       "      <td>4.166667</td>\n",
       "    </tr>\n",
       "    <tr>\n",
       "      <th>B018T075DC</th>\n",
       "      <td>6</td>\n",
       "      <td>5.000000</td>\n",
       "    </tr>\n",
       "    <tr>\n",
       "      <th>B005PB2T2Q</th>\n",
       "      <td>6</td>\n",
       "      <td>3.666667</td>\n",
       "    </tr>\n",
       "    <tr>\n",
       "      <th>B018Y22C2Y</th>\n",
       "      <td>5</td>\n",
       "      <td>4.800000</td>\n",
       "    </tr>\n",
       "  </tbody>\n",
       "</table>\n",
       "</div>"
      ],
      "text/plain": [
       "                       asins  reviews.rating\n",
       "B018Y229OU              8754        4.450651\n",
       "B00L9EPT8O,B01E6AO69U   5270        4.664516\n",
       "B00U3FPN4U              4102        4.705022\n",
       "B00OQVZDJM              2558        4.776779\n",
       "B01AHB9CN2              2245        4.580846\n",
       "B018Y23MNM              1330        4.531579\n",
       "B018Y225IA               820        4.504878\n",
       "B01BH83OOM               506        4.531621\n",
       "B00IOY8XWQ               461        4.739696\n",
       "B01J2G4VBG               320        4.468750\n",
       "B00TSUGXKE               290        4.400000\n",
       "B018SZT3BK               220        4.577273\n",
       "B0189XYY0Q               206        4.572816\n",
       "B00ZV9PXP2               170        4.523529\n",
       "B01AHB9CYG               123        4.609756\n",
       "B00QFQRELG                62        4.241935\n",
       "B00VINDBJK                54        4.666667\n",
       "B00IOYAM4I                37        4.810811\n",
       "B01BFIBRIE                27        4.592593\n",
       "B00QL1ZN3G                14        3.071429\n",
       "B01J4ORNHU                14        4.428571\n",
       "B00LW9XOJM                13        3.923077\n",
       "B00QJDU3KY                12        4.666667\n",
       "B01AHB9C1E                11        4.363636\n",
       "B018Y22BI4                 8        4.625000\n",
       "B00UH4D8G2                 7        2.857143\n",
       "B00X4WHP5E                 6        4.166667\n",
       "B018T075DC                 6        5.000000\n",
       "B005PB2T2Q                 6        3.666667\n",
       "B018Y22C2Y                 5        4.800000"
      ]
     },
     "execution_count": 25,
     "metadata": {},
     "output_type": "execute_result"
    }
   ],
   "source": [
    "table= asins.join(avg_ratings)\n",
    "table.head(30)"
   ]
  },
  {
   "cell_type": "code",
   "execution_count": 26,
   "id": "27628da3",
   "metadata": {},
   "outputs": [
    {
     "data": {
      "text/html": [
       "<div>\n",
       "<style scoped>\n",
       "    .dataframe tbody tr th:only-of-type {\n",
       "        vertical-align: middle;\n",
       "    }\n",
       "\n",
       "    .dataframe tbody tr th {\n",
       "        vertical-align: top;\n",
       "    }\n",
       "\n",
       "    .dataframe thead th {\n",
       "        text-align: right;\n",
       "    }\n",
       "</style>\n",
       "<table border=\"1\" class=\"dataframe\">\n",
       "  <thead>\n",
       "    <tr style=\"text-align: right;\">\n",
       "      <th></th>\n",
       "      <th>asins</th>\n",
       "      <th>reviews.rating</th>\n",
       "    </tr>\n",
       "  </thead>\n",
       "  <tbody>\n",
       "    <tr>\n",
       "      <th>asins</th>\n",
       "      <td>1.000000</td>\n",
       "      <td>0.110542</td>\n",
       "    </tr>\n",
       "    <tr>\n",
       "      <th>reviews.rating</th>\n",
       "      <td>0.110542</td>\n",
       "      <td>1.000000</td>\n",
       "    </tr>\n",
       "  </tbody>\n",
       "</table>\n",
       "</div>"
      ],
      "text/plain": [
       "                   asins  reviews.rating\n",
       "asins           1.000000        0.110542\n",
       "reviews.rating  0.110542        1.000000"
      ]
     },
     "execution_count": 26,
     "metadata": {},
     "output_type": "execute_result"
    },
    {
     "data": {
      "image/png": "[encoded data removed]",
      "text/plain": [
       "<Figure size 432x288 with 1 Axes>"
      ]
     },
     "metadata": {
      "needs_background": "light"
     },
     "output_type": "display_data"
    }
   ],
   "source": [
    "plt.scatter(\"asins\", \"reviews.rating\", data=table)\n",
    "table.corr()"
   ]
  },
  {
   "cell_type": "markdown",
   "id": "300bce6c",
   "metadata": {},
   "source": [
    "From out analysis of data exploration between ASINS and reviews.rating, we discovered that there are many ASINS with low occurrence having high variances, showing that these low occurence ASINS are not significant in our analyusis because of low sample size.\n",
    "\n",
    "Similar is the case from the values of correlation table, we can see their is no correlation between ASINS and reviews.rating."
   ]
  },
  {
   "cell_type": "markdown",
   "id": "c4bf9a77",
   "metadata": {},
   "source": [
    "# Sentiment Analysis\n",
    "Using features in place, we build a classifier that can determine a review's sentiment.\n",
    "\n",
    "## Set Target Variable (SENTIMENT)\n",
    "\n",
    "Segregate ratings in terms of sentiments:\n",
    "-  5 or 4    =>   Positive\n",
    "-    3    =>    Neutral\n",
    "-  1 or 2   =>    Negative"
   ]
  },
  {
   "cell_type": "code",
   "execution_count": 27,
   "id": "e734990e",
   "metadata": {},
   "outputs": [
    {
     "data": {
      "text/plain": [
       "22118    Positive\n",
       "18251    Positive\n",
       "4471     Positive\n",
       "31844    Positive\n",
       "33316    Positive\n",
       "8981      Neutral\n",
       "27645    Positive\n",
       "13806     Neutral\n",
       "12022    Positive\n",
       "8433     Positive\n",
       "30391    Positive\n",
       "27255    Positive\n",
       "15348    Positive\n",
       "13869    Positive\n",
       "33791    Positive\n",
       "23251    Positive\n",
       "17309    Positive\n",
       "25757    Positive\n",
       "12720    Positive\n",
       "31816    Positive\n",
       "Name: Sentiment, dtype: object"
      ]
     },
     "execution_count": 27,
     "metadata": {},
     "output_type": "execute_result"
    }
   ],
   "source": [
    "def sentiments(rating):\n",
    "    if (rating==5) or (rating==4):\n",
    "        return \"Positive\"\n",
    "    elif (rating==3):\n",
    "        return \"Neutral\"\n",
    "    elif (rating==2) or (rating==1):\n",
    "        return \"Negative\"\n",
    "\n",
    "strat_train[\"Sentiment\"]=strat_train[\"reviews.rating\"].apply(sentiments)\n",
    "strat_test[\"Sentiment\"]=strat_test[\"reviews.rating\"].apply(sentiments)\n",
    "strat_train[\"Sentiment\"][:20]"
   ]
  },
  {
   "cell_type": "code",
   "execution_count": 28,
   "id": "a6feab60",
   "metadata": {},
   "outputs": [],
   "source": [
    "X_train=strat_train[\"reviews.text\"]\n",
    "Y_train=strat_train[\"Sentiment\"]\n",
    "X_test=strat_test[\"reviews.text\"]\n",
    "Y_test=strat_test[\"Sentiment\"]"
   ]
  },
  {
   "cell_type": "markdown",
   "id": "ce47f51e",
   "metadata": {},
   "source": [
    "## Extract Features\n",
    "\n",
    "Here, we turn text content into numerical feature vectors using **Bag of Words** strategy:\n",
    "\n",
    "- Assign fixed integer id to each word occurrence (integer indices to word occurrence dictionary)\n",
    "- X[i,j] where i is the integer indices, j is the word occurrence, and X is an array of words (our training set)\n",
    "\n",
    "In order to implement **Bag of Words** strategy, we can use skLearn's **CountVectorizer** class to perform the following:\n",
    "- Text preprocessing\n",
    " - Tokenisation (separating words from sentences)\n",
    " - Stopwords (filtering \"and\", \"in\", etc.)\n",
    "- Occurrence counting (creates a dictionary that holds the interger indices for the words and there word occurrences)\n",
    "- Feature Vector (converts the dictionary into a feature vector)"
   ]
  },
  {
   "cell_type": "code",
   "execution_count": 29,
   "id": "0edfda30",
   "metadata": {},
   "outputs": [],
   "source": [
    "X_train=X_train.fillna(\" \")\n",
    "X_test=X_test.fillna(\" \")\n",
    "Y_train=Y_train.fillna(\" \")\n",
    "Y_test=Y_test.fillna(\" \")"
   ]
  },
  {
   "cell_type": "code",
   "execution_count": 30,
   "id": "e7d0cbcd",
   "metadata": {},
   "outputs": [
    {
     "data": {
      "text/plain": [
       "(27701, 12442)"
      ]
     },
     "execution_count": 30,
     "metadata": {},
     "output_type": "execute_result"
    }
   ],
   "source": [
    "from sklearn.feature_extraction.text import CountVectorizer\n",
    "count_vec=CountVectorizer()\n",
    "X_train_counts=count_vec.fit_transform(X_train)\n",
    "X_train_counts.shape"
   ]
  },
  {
   "cell_type": "markdown",
   "id": "ed756308",
   "metadata": {},
   "source": [
    "For longer documents, we typically see higher average count values for words with little meaning. This can overshadow the true analysis for shorter documents that have lower average counts with same frequencies.\n",
    "<br>As a result, we use **TfidfTransformer** to reduce this redundancy:\n",
    "- Term frequencies (**Tf**) divides the number of occurrences of each word by total numner of words\n",
    "- Term frequencise times Inverse Document Frequency (**Tfidf**) downscales the weight of each word"
   ]
  },
  {
   "cell_type": "code",
   "execution_count": 31,
   "id": "4acb4b9a",
   "metadata": {},
   "outputs": [
    {
     "data": {
      "text/plain": [
       "(27701, 12442)"
      ]
     },
     "execution_count": 31,
     "metadata": {},
     "output_type": "execute_result"
    }
   ],
   "source": [
    "from sklearn.feature_extraction.text import TfidfTransformer\n",
    "tfidftransformer=TfidfTransformer(use_idf=False)\n",
    "X_train_tfidf=tfidftransformer.fit_transform(X_train_counts)\n",
    "X_train_tfidf.shape"
   ]
  },
  {
   "cell_type": "markdown",
   "id": "dc673885",
   "metadata": {},
   "source": [
    "## Building a Pipeline from the Extacted Features\n",
    "\n",
    "Now we would implement different test models:\n",
    "\n",
    "**Multinomial Naive Bayes Classifier**\n",
    "\n",
    "*Training the model*"
   ]
  },
  {
   "cell_type": "code",
   "execution_count": 32,
   "id": "77d5fd68",
   "metadata": {},
   "outputs": [
    {
     "data": {
      "text/plain": [
       "Pipeline(steps=[('vect', CountVectorizer()), ('tfidf', TfidfTransformer()),\n",
       "                ('nominalNB', MultinomialNB())])"
      ]
     },
     "execution_count": 32,
     "metadata": {},
     "output_type": "execute_result"
    }
   ],
   "source": [
    "from sklearn.naive_bayes import MultinomialNB\n",
    "from sklearn.pipeline import Pipeline\n",
    "multiNB_pipe=Pipeline([(\"vect\", CountVectorizer()), (\"tfidf\", TfidfTransformer()), (\"nominalNB\", MultinomialNB())])\n",
    "multiNB_pipe.fit(X_train, Y_train)"
   ]
  },
  {
   "cell_type": "markdown",
   "id": "e7fdab2a",
   "metadata": {},
   "source": [
    "*Testing the model*"
   ]
  },
  {
   "cell_type": "code",
   "execution_count": 33,
   "id": "9d4b8460",
   "metadata": {},
   "outputs": [
    {
     "data": {
      "text/plain": [
       "0.9337279815189142"
      ]
     },
     "execution_count": 33,
     "metadata": {},
     "output_type": "execute_result"
    }
   ],
   "source": [
    "predictedMultiNB = multiNB_pipe.predict(X_test)\n",
    "np.mean(predictedMultiNB == Y_test)"
   ]
  },
  {
   "cell_type": "markdown",
   "id": "b6f2417f",
   "metadata": {},
   "source": [
    "Multinomial Naive Bayes Classifier has **93.37%** accuracy based on the features."
   ]
  },
  {
   "cell_type": "markdown",
   "id": "9eaa6b24",
   "metadata": {},
   "source": [
    "**Logistic Regression Classifier**"
   ]
  },
  {
   "cell_type": "code",
   "execution_count": 34,
   "id": "f36d28b7",
   "metadata": {},
   "outputs": [
    {
     "data": {
      "text/plain": [
       "0.9367600346520358"
      ]
     },
     "execution_count": 34,
     "metadata": {},
     "output_type": "execute_result"
    }
   ],
   "source": [
    "from sklearn.linear_model import LogisticRegression\n",
    "LogReg_pipe=Pipeline([(\"vect\", CountVectorizer()), (\"tfidf\", TfidfTransformer()), (\"LogReg\", LogisticRegression())])\n",
    "LogReg_pipe.fit(X_train, Y_train)\n",
    "predictedLogReg = LogReg_pipe.predict(X_test)\n",
    "np.mean(predictedLogReg == Y_test)"
   ]
  },
  {
   "cell_type": "markdown",
   "id": "3367daaf",
   "metadata": {},
   "source": [
    "**Decision Tree Classifier**"
   ]
  },
  {
   "cell_type": "code",
   "execution_count": 35,
   "id": "dcc24d5d",
   "metadata": {},
   "outputs": [
    {
     "data": {
      "text/plain": [
       "0.8999422466069882"
      ]
     },
     "execution_count": 35,
     "metadata": {},
     "output_type": "execute_result"
    }
   ],
   "source": [
    "from sklearn.tree import DecisionTreeClassifier\n",
    "decisionTree_pipe=Pipeline([(\"vect\", CountVectorizer()), (\"tfidf\", TfidfTransformer()), (\"DecisionTree\", DecisionTreeClassifier())])\n",
    "decisionTree_pipe.fit(X_train, Y_train)\n",
    "predictedDecisionTree = decisionTree_pipe.predict(X_test)\n",
    "np.mean(predictedDecisionTree == Y_test)"
   ]
  },
  {
   "cell_type": "markdown",
   "id": "d38aff96",
   "metadata": {},
   "source": [
    "**Random Forest Classifier**"
   ]
  },
  {
   "cell_type": "code",
   "execution_count": 36,
   "id": "740322e4",
   "metadata": {},
   "outputs": [
    {
     "data": {
      "text/plain": [
       "0.9337279815189142"
      ]
     },
     "execution_count": 36,
     "metadata": {},
     "output_type": "execute_result"
    }
   ],
   "source": [
    "from sklearn.ensemble import RandomForestClassifier\n",
    "randomForest_pipe=Pipeline([(\"vect\", CountVectorizer()), (\"tfidf\", TfidfTransformer()), (\"randomForestTree\", RandomForestClassifier())])\n",
    "randomForest_pipe.fit(X_train, Y_train)\n",
    "predictedRandomForest = randomForest_pipe.predict(X_test)\n",
    "np.mean(predictedRandomForest == Y_test)"
   ]
  },
  {
   "cell_type": "markdown",
   "id": "ed5b7e79",
   "metadata": {},
   "source": [
    "**Support Vector Machine Classifier**"
   ]
  },
  {
   "cell_type": "code",
   "execution_count": 37,
   "id": "f75c3701",
   "metadata": {},
   "outputs": [
    {
     "data": {
      "text/plain": [
       "0.9357493502743286"
      ]
     },
     "execution_count": 37,
     "metadata": {},
     "output_type": "execute_result"
    }
   ],
   "source": [
    "from sklearn.svm import LinearSVC\n",
    "linearSVC_pipe = Pipeline([(\"vect\", CountVectorizer()), (\"tfidf\", TfidfTransformer()), (\"linearSVC\", LinearSVC())])\n",
    "linearSVC_pipe.fit(X_train, Y_train)\n",
    "\n",
    "predictedLinearSVC = linearSVC_pipe.predict(X_test)\n",
    "np.mean(predictedLinearSVC == Y_test)"
   ]
  },
  {
   "cell_type": "markdown",
   "id": "f5782ed5",
   "metadata": {},
   "source": [
    "All the models performed well (~>90%), and we will use **Support Vector Machine Classifier** and **Logistic Regression** models for the two have got the highest accuracy levels.<br>\n",
    "Now we will fine tune the two models to avoid over-fitting and also to select the best of these two."
   ]
  },
  {
   "cell_type": "markdown",
   "id": "0d4f88cb",
   "metadata": {},
   "source": [
    "## Fine-tuning the two models (Support Vector Machine Classifier and Logistic Regression Classifier)\n",
    "- We will run a **GridSearch** fo the best parameters on a grid of potential values, instead of separately tweaking the parameters of various components of the model.\n",
    "- We will also run the Grid Search with both models' pipeline, parameters and cpu core maximisation\n",
    "- Fit the Grid Search on training dataset\n",
    "- Now we will test our final classifiers (after fine tuning) to test some arbitrary reviews.\n",
    "- At last, we will test the accuracy against the testing dataset\n",
    "\n",
    "\n",
    "**Support Vector Machine Classifier**"
   ]
  },
  {
   "cell_type": "code",
   "execution_count": 38,
   "id": "f1433e41",
   "metadata": {},
   "outputs": [
    {
     "data": {
      "text/plain": [
       "dict_keys(['memory', 'steps', 'verbose', 'vect', 'tfidf', 'linearSVC', 'vect__analyzer', 'vect__binary', 'vect__decode_error', 'vect__dtype', 'vect__encoding', 'vect__input', 'vect__lowercase', 'vect__max_df', 'vect__max_features', 'vect__min_df', 'vect__ngram_range', 'vect__preprocessor', 'vect__stop_words', 'vect__strip_accents', 'vect__token_pattern', 'vect__tokenizer', 'vect__vocabulary', 'tfidf__norm', 'tfidf__smooth_idf', 'tfidf__sublinear_tf', 'tfidf__use_idf', 'linearSVC__C', 'linearSVC__class_weight', 'linearSVC__dual', 'linearSVC__fit_intercept', 'linearSVC__intercept_scaling', 'linearSVC__loss', 'linearSVC__max_iter', 'linearSVC__multi_class', 'linearSVC__penalty', 'linearSVC__random_state', 'linearSVC__tol', 'linearSVC__verbose'])"
      ]
     },
     "execution_count": 38,
     "metadata": {},
     "output_type": "execute_result"
    }
   ],
   "source": [
    "linearSVC_pipe.get_params().keys()"
   ]
  },
  {
   "cell_type": "code",
   "execution_count": 39,
   "id": "583d8303",
   "metadata": {},
   "outputs": [
    {
     "data": {
      "text/plain": [
       "array(['Positive', 'Positive', 'Negative'], dtype=object)"
      ]
     },
     "execution_count": 39,
     "metadata": {},
     "output_type": "execute_result"
    }
   ],
   "source": [
    "from sklearn.model_selection import GridSearchCV\n",
    "parameters = {'vect__ngram_range': [(1, 1), (1, 2)],    \n",
    "             'tfidf__use_idf': (True, False), \n",
    "             } \n",
    "gs_clf_LinearSVC_pipe = GridSearchCV(linearSVC_pipe, parameters, n_jobs=-1)\n",
    "gs_clf_LinearSVC_pipe = gs_clf_LinearSVC_pipe.fit(X_train, Y_train)\n",
    "new_text = [\"The tablet is good, really liked it.\", # positive\n",
    "            \"The tablet is ok, but it works fine.\", # neutral\n",
    "            \"The tablet is not good, does not work very well.\"] # negative\n",
    "\n",
    "gs_clf_LinearSVC_pipe.predict(new_text)"
   ]
  },
  {
   "cell_type": "code",
   "execution_count": 40,
   "id": "6ed72eaa",
   "metadata": {},
   "outputs": [
    {
     "data": {
      "text/plain": [
       "0.9386370199249205"
      ]
     },
     "execution_count": 40,
     "metadata": {},
     "output_type": "execute_result"
    }
   ],
   "source": [
    "predictedGS_clf_LinearSVC_pipe = gs_clf_LinearSVC_pipe.predict(X_test)\n",
    "np.mean(predictedGS_clf_LinearSVC_pipe == Y_test)"
   ]
  },
  {
   "cell_type": "markdown",
   "id": "c085ffd2",
   "metadata": {},
   "source": [
    "**Logistic Regression Classifier**"
   ]
  },
  {
   "cell_type": "code",
   "execution_count": 41,
   "id": "56104871",
   "metadata": {},
   "outputs": [
    {
     "data": {
      "text/plain": [
       "dict_keys(['memory', 'steps', 'verbose', 'vect', 'tfidf', 'LogReg', 'vect__analyzer', 'vect__binary', 'vect__decode_error', 'vect__dtype', 'vect__encoding', 'vect__input', 'vect__lowercase', 'vect__max_df', 'vect__max_features', 'vect__min_df', 'vect__ngram_range', 'vect__preprocessor', 'vect__stop_words', 'vect__strip_accents', 'vect__token_pattern', 'vect__tokenizer', 'vect__vocabulary', 'tfidf__norm', 'tfidf__smooth_idf', 'tfidf__sublinear_tf', 'tfidf__use_idf', 'LogReg__C', 'LogReg__class_weight', 'LogReg__dual', 'LogReg__fit_intercept', 'LogReg__intercept_scaling', 'LogReg__l1_ratio', 'LogReg__max_iter', 'LogReg__multi_class', 'LogReg__n_jobs', 'LogReg__penalty', 'LogReg__random_state', 'LogReg__solver', 'LogReg__tol', 'LogReg__verbose', 'LogReg__warm_start'])"
      ]
     },
     "execution_count": 41,
     "metadata": {},
     "output_type": "execute_result"
    }
   ],
   "source": [
    "LogReg_pipe.get_params().keys()"
   ]
  },
  {
   "cell_type": "code",
   "execution_count": 42,
   "id": "248630c9",
   "metadata": {},
   "outputs": [
    {
     "data": {
      "text/plain": [
       "array(['Positive', 'Neutral', 'Positive'], dtype=object)"
      ]
     },
     "execution_count": 42,
     "metadata": {},
     "output_type": "execute_result"
    }
   ],
   "source": [
    "gs_LogReg_pipe = GridSearchCV(LogReg_pipe, parameters, n_jobs=-1)\n",
    "gs_LogReg_pipe = gs_LogReg_pipe.fit(X_train, Y_train)\n",
    "new_text = [\"The tablet is good, really liked it.\", # positive\n",
    "            \"The tablet is ok, but it works fine.\", # neutral\n",
    "            \"The tablet is not good, does not work very well.\"] # negative\n",
    "\n",
    "gs_LogReg_pipe.predict(new_text)"
   ]
  },
  {
   "cell_type": "code",
   "execution_count": 43,
   "id": "a8287bd5",
   "metadata": {},
   "outputs": [
    {
     "data": {
      "text/plain": [
       "0.9367600346520358"
      ]
     },
     "execution_count": 43,
     "metadata": {},
     "output_type": "execute_result"
    }
   ],
   "source": [
    "predictedGS_LogReg_pipe = gs_LogReg_pipe.predict(X_test)\n",
    "np.mean(predictedGS_LogReg_pipe == Y_test)"
   ]
  },
  {
   "cell_type": "markdown",
   "id": "93bd261b",
   "metadata": {},
   "source": [
    "**Results:**\n",
    "- After testing arbitrary reviews, we can see both models had some mistake but the Support Vector Machine Classifier predicted the negative review correctly in comparision to Logistic Regression model which showed it as Positive sentiment (seems bad)\n",
    "- Also the accuracy score for the *Support Vector Machine Classifier* stands at *93.86%* in comparision to *Logistic Regression Classifier's 93.67%*.\n",
    "\n",
    "Thus, we select **Support Vector Machine Classifier** as our final model."
   ]
  },
  {
   "cell_type": "markdown",
   "id": "e2c36030",
   "metadata": {},
   "source": [
    "## Detailed Performance Analysis of Support Vector Machine Classifier\n",
    "\n",
    "For detailed analysis, we will analyse the following of the grid search model used earlier:\n",
    "- the best mean score\n",
    "- the best estimators\n",
    "- the best parameters"
   ]
  },
  {
   "cell_type": "code",
   "execution_count": 44,
   "id": "d4ceca26",
   "metadata": {},
   "outputs": [
    {
     "name": "stdout",
     "output_type": "stream",
     "text": [
      "0.9374391034474222\n",
      "Pipeline(steps=[('vect', CountVectorizer(ngram_range=(1, 2))),\n",
      "                ('tfidf', TfidfTransformer()), ('linearSVC', LinearSVC())])\n",
      "{'tfidf__use_idf': True, 'vect__ngram_range': (1, 2)}\n"
     ]
    }
   ],
   "source": [
    "for performance_analysis in (gs_clf_LinearSVC_pipe.best_score_, gs_clf_LinearSVC_pipe.best_estimator_, gs_clf_LinearSVC_pipe.best_params_):\n",
    "    print(performance_analysis)"
   ]
  },
  {
   "cell_type": "markdown",
   "id": "2e76984a",
   "metadata": {},
   "source": [
    "- We can see the best mean score is *93.74%*- close to our final accuracy score of *93.86%*\n",
    "- Best estimator is displayed here\n",
    "- Our best parameters are \"True\" for use_idf in tfidf, and ngram_range: (1,2)"
   ]
  },
  {
   "cell_type": "code",
   "execution_count": 45,
   "id": "3b73cea6",
   "metadata": {},
   "outputs": [
    {
     "name": "stdout",
     "output_type": "stream",
     "text": [
      "              precision    recall  f1-score   support\n",
      "\n",
      "                   0.00      0.00      0.00         3\n",
      "    Negative       0.66      0.22      0.33       157\n",
      "     Neutral       0.44      0.08      0.14       299\n",
      "    Positive       0.94      1.00      0.97      6467\n",
      "\n",
      "    accuracy                           0.94      6926\n",
      "   macro avg       0.51      0.32      0.36      6926\n",
      "weighted avg       0.92      0.94      0.92      6926\n",
      "\n",
      "Accuracy: 0.9386370199249205\n"
     ]
    }
   ],
   "source": [
    "from sklearn.metrics import classification_report\n",
    "from sklearn.metrics import accuracy_score\n",
    "\n",
    "print(classification_report(Y_test, predictedGS_clf_LinearSVC_pipe))\n",
    "print('Accuracy: {}'. format(accuracy_score(Y_test, predictedGS_clf_LinearSVC_pipe)))"
   ]
  },
  {
   "cell_type": "markdown",
   "id": "9a7b06ee",
   "metadata": {},
   "source": [
    "Below is the summary of the classification report:\n",
    "\n",
    "- Precision: determines how many objects selected were correct\n",
    "- Recall: determines how many objects that should have been correct were selected\n",
    "- F1 score: measures the weighted value of precision and recall (1 means both are equally important, 0 otherwise)\n",
    "- Support: number of occurrence of each class\n",
    "\n",
    "The results in the classification report confirms our data exploration analysis, where the data was skewed to the positive reviews as shown by the lower support count for other two sentiments. Also, the neutral and negative reviews have large standard deviation with small frequencies, which we would not consider as shown by lower precision, recall and F1 scores.\n",
    "\n",
    "Despite the neutral and negative results are not strong predictors, still we have got a good accuracy score of 93.86% in predicting the sentiment analysis, which we tested and worked very well. Therefore, we are comfortable here with the skewed dataset. Also, as we continue to train our model for new input- a more balanced dataset- the model would readjust to a more balanced classifier with increased accuracy score.\n",
    "\n",
    "Finally, the result shows that most of the products are positively rated."
   ]
  },
  {
   "cell_type": "code",
   "execution_count": 46,
   "id": "d0253a2e",
   "metadata": {},
   "outputs": [
    {
     "data": {
      "text/plain": [
       "array([[   0,    0,    0,    3],\n",
       "       [   0,   35,   15,  107],\n",
       "       [   0,    8,   24,  267],\n",
       "       [   0,   10,   15, 6442]], dtype=int64)"
      ]
     },
     "execution_count": 46,
     "metadata": {},
     "output_type": "execute_result"
    }
   ],
   "source": [
    "from sklearn import metrics\n",
    "metrics.confusion_matrix(Y_test, predictedGS_clf_LinearSVC_pipe)"
   ]
  },
  {
   "cell_type": "markdown",
   "id": "cb3fc1a1",
   "metadata": {},
   "source": [
    "Considering row and columns in range 2 to 4 labeled as Negative, Neutral and Positive respectively, we see that positive sentiment has been confused with neutral and negative sentiments, with score of 267 and 107 respectively. However, based on an overall true positive score of 6442, these two confusion scores seem insignificant.\n",
    "\n",
    "Also we can relate from our data exploration and analysis that the data was highly skewed to positive rating, which is consistently shown here too. Therefore, we conclude most of the products are positively rated, and should be kept in the inventory.\n",
    "\n",
    "# Final Answer to our Problem\n",
    "\n",
    "From the analysis of the classification report, we can see the products with lower ratings are not significant enough to predict that those are inferior. And for the products with positive ratings are considered superior products, perform well and purchased in high quantity.\n",
    "\n",
    "In order to qualify the model for low rated products, we need more data to train the model and improve the significance for negative and neutral rated products.\n",
    "\n",
    "Good point here we achieved was how well the model managed skewed data and were able to build a robust Sentiment Analyser.\n",
    "\n",
    "To conclude I can say, although it would require more data to improve the significance and training of the model for negative reviews, we were still able to successfully asscociate postive, neutral and negative sentiments for the products from Amazon's catalog."
   ]
  }
 ],
 "metadata": {
  "kernelspec": {
   "display_name": "Python 3",
   "language": "python",
   "name": "python3"
  },
  "language_info": {
   "codemirror_mode": {
    "name": "ipython",
    "version": 3
   },
   "file_extension": ".py",
   "mimetype": "text/x-python",
   "name": "python",
   "nbconvert_exporter": "python",
   "pygments_lexer": "ipython3",
   "version": "3.8.8"
  }
 },
 "nbformat": 4,
 "nbformat_minor": 5
}
